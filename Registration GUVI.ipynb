{
 "cells": [
  {
   "cell_type": "code",
   "execution_count": null,
   "id": "9bb63048",
   "metadata": {},
   "outputs": [],
   "source": []
  },
  {
   "cell_type": "code",
   "execution_count": 5,
   "id": "67469a44",
   "metadata": {},
   "outputs": [
    {
     "name": "stdout",
     "output_type": "stream",
     "text": [
      "Enter The Username:abc@gma.com\n",
      "Enter The Password:Abc2@\n",
      "('abc', '@', 'gma.com')\n",
      "valid\n",
      "valid Password\n",
      "Login success\n"
     ]
    }
   ],
   "source": [
    "def usernamecheck(user):\n",
    "    cnt,cnt1=0,0\n",
    "    for i in range(0,len(user)):\n",
    "        if user[i]=='@':\n",
    "            cnt=cnt+1\n",
    "        elif user[i]==\".\":\n",
    "            cnt1=cnt1+1\n",
    "    if cnt==1 and cnt1==1:\n",
    "        username=user.partition('@')\n",
    "        print(username)\n",
    "        if username[0][0]>='a' and username[0][0]<='z' and username[2][0]!=\".\":\n",
    "            print(\"valid\")\n",
    "            return True\n",
    "            \n",
    "        else:\n",
    "            print(\"not valid\")\n",
    "            return False\n",
    "    else:\n",
    "        print(\"invalid\")\n",
    "        return False\n",
    "\n",
    "    \n",
    "\n",
    "def passwordcheck(s):\n",
    "    u,l,d,sl = 0,0,0,0\n",
    "    if len(s)>=5 and len(s)<=16:\n",
    "        for i in range(0,len(s)):\n",
    "            if s[i].isupper():\n",
    "                u = u+1\n",
    "            elif s[i].islower():\n",
    "                l = l+1\n",
    "            elif s[i].isdigit():\n",
    "                d = d+1\n",
    "            elif s[i] == '$' or s[i] == '&' or s[i] == '!' or s[i]=='@':\n",
    "                sl=sl+1\n",
    "            else:\n",
    "                continue\n",
    "        if l>=1 and u>=1 and d>=1 and sl == 1:\n",
    "            print('valid Password')\n",
    "            return True\n",
    "        else:\n",
    "            print('invalid password')\n",
    "            return False\n",
    "    else:\n",
    "        return False\n",
    "\n",
    "\n",
    "    \n",
    "user=input(\"Enter The Username:\")\n",
    "password=input(\"Enter The Password:\")\n",
    "\n",
    "if usernamecheck(user) and passwordcheck(password):\n",
    "    print(\"Login success\")\n",
    "    f=open(\"Register.txt\",\"w\")\n",
    "    f.write(user+\"\\n\"+password)\n",
    "    f.flush()\n",
    "    f.close()\n",
    "else:\n",
    "    print(\"Invalid username and password\")"
   ]
  },
  {
   "cell_type": "code",
   "execution_count": 1,
   "id": "fdd9b56f",
   "metadata": {},
   "outputs": [],
   "source": []
  },
  {
   "cell_type": "code",
   "execution_count": null,
   "id": "3abb96f7",
   "metadata": {},
   "outputs": [],
   "source": []
  },
  {
   "cell_type": "code",
   "execution_count": null,
   "id": "9d1bfef4",
   "metadata": {},
   "outputs": [],
   "source": []
  }
 ],
 "metadata": {
  "kernelspec": {
   "display_name": "Python 3 (ipykernel)",
   "language": "python",
   "name": "python3"
  },
  "language_info": {
   "codemirror_mode": {
    "name": "ipython",
    "version": 3
   },
   "file_extension": ".py",
   "mimetype": "text/x-python",
   "name": "python",
   "nbconvert_exporter": "python",
   "pygments_lexer": "ipython3",
   "version": "3.9.12"
  }
 },
 "nbformat": 4,
 "nbformat_minor": 5
}
